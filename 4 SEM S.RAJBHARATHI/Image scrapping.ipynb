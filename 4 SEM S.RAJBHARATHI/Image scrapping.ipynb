{
 "cells": [
  {
   "cell_type": "code",
   "execution_count": 1,
   "id": "6194f8bc",
   "metadata": {},
   "outputs": [
    {
     "name": "stdout",
     "output_type": "stream",
     "text": [
      "Requirement already satisfied: bing-image-downloader in c:\\users\\admin\\anaconda3\\envs\\lib\\site-packages (1.1.2)\n",
      "Note: you may need to restart the kernel to use updated packages.\n"
     ]
    }
   ],
   "source": [
    "pip install bing-image-downloader"
   ]
  },
  {
   "cell_type": "code",
   "execution_count": 2,
   "id": "ed50345b",
   "metadata": {},
   "outputs": [],
   "source": [
    "from bing_image_downloader import downloader"
   ]
  },
  {
   "cell_type": "code",
   "execution_count": 4,
   "id": "0f3b09f4",
   "metadata": {},
   "outputs": [
    {
     "name": "stdout",
     "output_type": "stream",
     "text": [
      "[%] Downloading Images to C:\\Users\\Admin\\4 SEM S.RAJBHARATHI\\Dataset\\Cars\n",
      "\n",
      "\n",
      "[!!]Indexing page: 1\n",
      "\n",
      "[%] Indexed 30 Images on Page 1.\n",
      "\n",
      "===============================================\n",
      "\n",
      "[%] Downloading Image #1 from https://hips.hearstapps.com/autoweek/assets/s3fs-public/60523009-5.jpg\n",
      "[%] File Downloaded !\n",
      "\n",
      "[%] Downloading Image #2 from https://www.pixelstalk.net/wp-content/uploads/2016/10/HD-free-disney-cars-pictures.jpg\n",
      "[%] File Downloaded !\n",
      "\n",
      "[%] Downloading Image #3 from https://1.bp.blogspot.com/-gIIZHD67c-8/UAg0s_qGAII/AAAAAAAAAww/Pm0i8qdJ45s/s1600/cars_0041.jpg\n",
      "[%] File Downloaded !\n",
      "\n",
      "[%] Downloading Image #4 from https://hips.hearstapps.com/autoweek/assets/s3fs-public/60523009-4.jpg\n",
      "[%] File Downloaded !\n",
      "\n",
      "[%] Downloading Image #5 from https://1.bp.blogspot.com/-NYTuyZpJM4Q/T7-_weFK2II/AAAAAAAAAIg/JfHOAwQuUXM/s1600/2013%2Bf.jpg\n",
      "[%] File Downloaded !\n",
      "\n",
      "[%] Downloading Image #6 from https://whatsondisneyplus.com/wp-content/uploads/2020/07/Cars-2-Prix-scaled.jpg\n",
      "[%] File Downloaded !\n",
      "\n",
      "[%] Downloading Image #7 from https://prod-ripcut-delivery.disney-plus.net/v1/variant/disney/2FA696E26739A45020434268539398688A4194DEB0C445119ADBB58C347A4AF8/scale?aspectRatio=1.78&amp;format=jpeg\n",
      "[%] File Downloaded !\n",
      "\n",
      "[%] Downloading Image #8 from https://4.bp.blogspot.com/-W2rT6DiYko0/UOol6OWBfVI/AAAAAAAAE_E/3l3jKDQiAGo/s1600/738337_492628620787429_400049271_o.jpg\n",
      "[%] File Downloaded !\n",
      "\n",
      "[%] Downloading Image #9 from https://i.pinimg.com/originals/e5/62/0f/e5620fe72b5b25232076ffc22cf03112.jpg\n",
      "[%] File Downloaded !\n",
      "\n",
      "[%] Downloading Image #10 from https://2.bp.blogspot.com/_NR-pTkG6FHE/TFwqHfH2eZI/AAAAAAAAA9M/AmdyVJ8q5IM/s1600/Car+(24).jpg\n",
      "[%] File Downloaded !\n",
      "\n",
      "[%] Downloading Image #11 from https://carsncare.com/wp-content/uploads/2016/06/540ab3864abe2.jpg\n",
      "[%] File Downloaded !\n",
      "\n",
      "[%] Downloading Image #12 from https://wallpapercave.com/wp/wp2014140.jpg\n",
      "[%] File Downloaded !\n",
      "\n",
      "[%] Downloading Image #13 from http://1.bp.blogspot.com/-2lG5ThB4m9I/TttPuIdEgmI/AAAAAAAAAM0/r1Hnf8xlv1o/s1600/cars%2Bwallpapers%2Bhd%2B2011%2B3.jpg\n",
      "[%] File Downloaded !\n",
      "\n",
      "[%] Downloading Image #14 from https://1.bp.blogspot.com/-oIFldfdf4iQ/T3tnTlgDbcI/AAAAAAAAAJg/l7FWd-EoGJU/s1600/(02).jpg\n",
      "[%] File Downloaded !\n",
      "\n",
      "[%] Downloading Image #15 from https://1.bp.blogspot.com/-oVH8DAT7ESo/Uk0AR8FiviI/AAAAAAACrac/CY1ufvaB3qQ/s1600/DSC_0100.JPG\n",
      "[%] File Downloaded !\n",
      "\n",
      "[%] Downloading Image #16 from https://wallpapercave.com/wp/wp2028100.jpg\n",
      "[%] File Downloaded !\n",
      "\n",
      "[%] Downloading Image #17 from http://1.bp.blogspot.com/_xkhmEquJ2eQ/TOXZvdc819I/AAAAAAAAAAg/OI_kZkyOgc4/s1600/car4.jpg\n",
      "[%] File Downloaded !\n",
      "\n",
      "[%] Downloading Image #18 from https://wallpaperaccess.com/full/470281.jpg\n",
      "[%] File Downloaded !\n",
      "\n",
      "[%] Downloading Image #19 from https://2.bp.blogspot.com/_LEiSX2i3lV0/TKks_7Ldp4I/AAAAAAAAAI8/RTy-92s28bY/s1600/37.jpg\n",
      "[%] File Downloaded !\n",
      "\n",
      "[%] Downloading Image #20 from http://www.pixelstalk.net/wp-content/uploads/2016/10/Disney-Cars-Wallpapers-Desktop.jpg\n",
      "[%] File Downloaded !\n",
      "\n",
      "[%] Downloading Image #21 from https://4.bp.blogspot.com/-wBDBi8LgfGA/T89wawTezTI/AAAAAAAAAIM/uBSM6fRMeCs/s1600/car-wallpapers-cars.jpg\n",
      "[%] File Downloaded !\n",
      "\n",
      "[%] Downloading Image #22 from https://4.bp.blogspot.com/-PJmycyePtZQ/USWngFKrEOI/AAAAAAAAUZg/hSZZ29MBGyw/s1600/2013-Dodge-Charger-AWD-Sport.jpg\n",
      "[%] File Downloaded !\n",
      "\n",
      "[%] Downloading Image #23 from https://image.slidesharecdn.com/cars-090227130947-phpapp01/95/cars-8-728.jpg?cb=1235740227\n",
      "[%] File Downloaded !\n",
      "\n",
      "[%] Downloading Image #24 from http://simplywallpaper.net/pictures/2010/10/26/king-Pixar-Cars-Wallpaper.jpg\n",
      "[%] File Downloaded !\n",
      "\n",
      "[%] Downloading Image #25 from http://voiture.de.reve.free.fr/BMW/BMW M3 - 2002 - 03.jpg\n",
      "[!] Issue getting: http://voiture.de.reve.free.fr/BMW/BMW M3 - 2002 - 03.jpg\n",
      "[!] Error:: URL can't contain control characters. '/BMW/BMW M3 - 2002 - 03.jpg' (found at least ' ')\n",
      "[%] Downloading Image #25 from http://bp2.blogger.com/_pW7c2gLMmY4/R7fQmYnk2hI/AAAAAAAAAq8/nWmZM6JfqBM/S760/Copy+of+Car+(12).jpg\n",
      "[%] File Downloaded !\n",
      "\n",
      "[%] Downloading Image #26 from https://www.gannett-cdn.com/-mm-/b9599a5cf42425842dee05c491abb3017d303aa6/c=83-112-3953-3022&amp;r=x513&amp;c=680x510/local/-/media/2016/03/01/USATODAY/USATODAY/635924421063209521-CARS010.JPG\n",
      "[%] File Downloaded !\n",
      "\n",
      "[%] Downloading Image #27 from https://1.bp.blogspot.com/-s8S2ei2N1E8/U_O58PVRTvI/AAAAAAAAACA/ZuWP6yAqJ-c/s1600/cars-images-hqwall.com-887248.jpg\n",
      "[%] File Downloaded !\n",
      "\n",
      "[%] Downloading Image #28 from http://3.bp.blogspot.com/-hHNOyabaUGI/TmTSL6gq3eI/AAAAAAAAAjs/1qV-CqQM8js/s1600/Beautiful-Cars-Wallpapers-3.jpg\n",
      "[%] File Downloaded !\n",
      "\n",
      "[%] Downloading Image #29 from http://simplywallpaper.net/pictures/2010/10/27/ramone-2-Pixar-Cars-Wallpaper.jpg\n",
      "[%] File Downloaded !\n",
      "\n",
      "\n",
      "\n",
      "[!!]Indexing page: 2\n",
      "\n",
      "[%] Indexed 35 Images on Page 2.\n",
      "\n",
      "===============================================\n",
      "\n",
      "[%] Downloading Image #30 from http://3.bp.blogspot.com/-i8b0VY1jg2s/T3tne1UxsZI/AAAAAAAAAMY/BJqKG2innhI/s1600/(25).jpg\n",
      "[%] File Downloaded !\n",
      "\n",
      "\n",
      "\n",
      "[%] Done. Downloaded 30 images.\n"
     ]
    }
   ],
   "source": [
    "downloader.download(\"Cars\",limit=30,output_dir=\"Dataset\",adult_filter_off=True)"
   ]
  },
  {
   "cell_type": "code",
   "execution_count": null,
   "id": "8ed92753",
   "metadata": {},
   "outputs": [],
   "source": []
  }
 ],
 "metadata": {
  "kernelspec": {
   "display_name": "Python 3 (ipykernel)",
   "language": "python",
   "name": "python3"
  },
  "language_info": {
   "codemirror_mode": {
    "name": "ipython",
    "version": 3
   },
   "file_extension": ".py",
   "mimetype": "text/x-python",
   "name": "python",
   "nbconvert_exporter": "python",
   "pygments_lexer": "ipython3",
   "version": "3.11.3"
  }
 },
 "nbformat": 4,
 "nbformat_minor": 5
}
