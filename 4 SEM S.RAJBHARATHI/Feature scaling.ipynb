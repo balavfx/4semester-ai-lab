{
 "cells": [
  {
   "cell_type": "code",
   "execution_count": 1,
   "id": "7c4521ce",
   "metadata": {},
   "outputs": [],
   "source": [
    "import numpy as np\n",
    "import pandas as pd"
   ]
  },
  {
   "cell_type": "code",
   "execution_count": 2,
   "id": "0cc61d89",
   "metadata": {},
   "outputs": [],
   "source": [
    "stand_scaler = pd.DataFrame({'x1':np.random.normal(0,2,100),'x2':np.random.normal(3,5,100),'x3':np.random.normal(-2,2,100)})"
   ]
  },
  {
   "cell_type": "code",
   "execution_count": 3,
   "id": "dd720eba",
   "metadata": {},
   "outputs": [
    {
     "data": {
      "text/html": [
       "<div>\n",
       "<style scoped>\n",
       "    .dataframe tbody tr th:only-of-type {\n",
       "        vertical-align: middle;\n",
       "    }\n",
       "\n",
       "    .dataframe tbody tr th {\n",
       "        vertical-align: top;\n",
       "    }\n",
       "\n",
       "    .dataframe thead th {\n",
       "        text-align: right;\n",
       "    }\n",
       "</style>\n",
       "<table border=\"1\" class=\"dataframe\">\n",
       "  <thead>\n",
       "    <tr style=\"text-align: right;\">\n",
       "      <th></th>\n",
       "      <th>x1</th>\n",
       "      <th>x2</th>\n",
       "      <th>x3</th>\n",
       "    </tr>\n",
       "  </thead>\n",
       "  <tbody>\n",
       "    <tr>\n",
       "      <th>0</th>\n",
       "      <td>3.023714</td>\n",
       "      <td>-0.231375</td>\n",
       "      <td>-2.448988</td>\n",
       "    </tr>\n",
       "    <tr>\n",
       "      <th>1</th>\n",
       "      <td>-0.657399</td>\n",
       "      <td>-0.177424</td>\n",
       "      <td>-3.277901</td>\n",
       "    </tr>\n",
       "    <tr>\n",
       "      <th>2</th>\n",
       "      <td>-4.026069</td>\n",
       "      <td>8.680254</td>\n",
       "      <td>-4.339732</td>\n",
       "    </tr>\n",
       "    <tr>\n",
       "      <th>3</th>\n",
       "      <td>-2.405503</td>\n",
       "      <td>9.552872</td>\n",
       "      <td>-1.096426</td>\n",
       "    </tr>\n",
       "    <tr>\n",
       "      <th>4</th>\n",
       "      <td>0.965563</td>\n",
       "      <td>0.138989</td>\n",
       "      <td>0.499071</td>\n",
       "    </tr>\n",
       "    <tr>\n",
       "      <th>...</th>\n",
       "      <td>...</td>\n",
       "      <td>...</td>\n",
       "      <td>...</td>\n",
       "    </tr>\n",
       "    <tr>\n",
       "      <th>95</th>\n",
       "      <td>0.459146</td>\n",
       "      <td>-0.831690</td>\n",
       "      <td>0.009168</td>\n",
       "    </tr>\n",
       "    <tr>\n",
       "      <th>96</th>\n",
       "      <td>1.985249</td>\n",
       "      <td>4.143325</td>\n",
       "      <td>-1.552348</td>\n",
       "    </tr>\n",
       "    <tr>\n",
       "      <th>97</th>\n",
       "      <td>0.919483</td>\n",
       "      <td>1.271962</td>\n",
       "      <td>-2.288384</td>\n",
       "    </tr>\n",
       "    <tr>\n",
       "      <th>98</th>\n",
       "      <td>-1.789810</td>\n",
       "      <td>0.717092</td>\n",
       "      <td>2.373919</td>\n",
       "    </tr>\n",
       "    <tr>\n",
       "      <th>99</th>\n",
       "      <td>1.739818</td>\n",
       "      <td>2.922953</td>\n",
       "      <td>0.871686</td>\n",
       "    </tr>\n",
       "  </tbody>\n",
       "</table>\n",
       "<p>100 rows × 3 columns</p>\n",
       "</div>"
      ],
      "text/plain": [
       "          x1        x2        x3\n",
       "0   3.023714 -0.231375 -2.448988\n",
       "1  -0.657399 -0.177424 -3.277901\n",
       "2  -4.026069  8.680254 -4.339732\n",
       "3  -2.405503  9.552872 -1.096426\n",
       "4   0.965563  0.138989  0.499071\n",
       "..       ...       ...       ...\n",
       "95  0.459146 -0.831690  0.009168\n",
       "96  1.985249  4.143325 -1.552348\n",
       "97  0.919483  1.271962 -2.288384\n",
       "98 -1.789810  0.717092  2.373919\n",
       "99  1.739818  2.922953  0.871686\n",
       "\n",
       "[100 rows x 3 columns]"
      ]
     },
     "execution_count": 3,
     "metadata": {},
     "output_type": "execute_result"
    }
   ],
   "source": [
    "stand_scaler"
   ]
  },
  {
   "cell_type": "code",
   "execution_count": null,
   "id": "f7b25a3f",
   "metadata": {},
   "outputs": [],
   "source": []
  }
 ],
 "metadata": {
  "kernelspec": {
   "display_name": "Python 3 (ipykernel)",
   "language": "python",
   "name": "python3"
  },
  "language_info": {
   "codemirror_mode": {
    "name": "ipython",
    "version": 3
   },
   "file_extension": ".py",
   "mimetype": "text/x-python",
   "name": "python",
   "nbconvert_exporter": "python",
   "pygments_lexer": "ipython3",
   "version": "3.11.3"
  }
 },
 "nbformat": 4,
 "nbformat_minor": 5
}
