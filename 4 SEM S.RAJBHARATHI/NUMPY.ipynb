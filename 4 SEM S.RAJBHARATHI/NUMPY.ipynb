{
 "cells": [
  {
   "cell_type": "markdown",
   "id": "6e9ede94",
   "metadata": {},
   "source": [
    "# INSTALL LIBRARY "
   ]
  },
  {
   "cell_type": "code",
   "execution_count": 1,
   "id": "c240635d",
   "metadata": {},
   "outputs": [
    {
     "name": "stdout",
     "output_type": "stream",
     "text": [
      "Requirement already satisfied: numpy in c:\\users\\admin\\.jupyter\\anoconda\\lib\\site-packages (1.21.5)\n",
      "Note: you may need to restart the kernel to use updated packages.\n"
     ]
    }
   ],
   "source": [
    "pip install numpy"
   ]
  },
  {
   "cell_type": "markdown",
   "id": "b90aa69b",
   "metadata": {},
   "source": [
    "# ARRAY OPERATIONS"
   ]
  },
  {
   "cell_type": "code",
   "execution_count": 2,
   "id": "17fcf0ce",
   "metadata": {},
   "outputs": [],
   "source": [
    "import numpy as np"
   ]
  },
  {
   "cell_type": "code",
   "execution_count": 3,
   "id": "3cc6cde9",
   "metadata": {},
   "outputs": [
    {
     "data": {
      "text/plain": [
       "'1.21.5'"
      ]
     },
     "execution_count": 3,
     "metadata": {},
     "output_type": "execute_result"
    }
   ],
   "source": [
    "np.version.version"
   ]
  },
  {
   "cell_type": "markdown",
   "id": "905a99a8",
   "metadata": {},
   "source": [
    "# CREATING 1D ARRAY "
   ]
  },
  {
   "cell_type": "code",
   "execution_count": 4,
   "id": "a6b24be9",
   "metadata": {},
   "outputs": [],
   "source": [
    "first_array = np.array([6,5,4,3,2,1])"
   ]
  },
  {
   "cell_type": "code",
   "execution_count": 5,
   "id": "f2d17c60",
   "metadata": {},
   "outputs": [
    {
     "name": "stdout",
     "output_type": "stream",
     "text": [
      "[6 5 4 3 2 1]\n"
     ]
    }
   ],
   "source": [
    "print(first_array)"
   ]
  },
  {
   "cell_type": "markdown",
   "id": "4f289795",
   "metadata": {},
   "source": [
    "# TWO DIMENSIONAL ARRAY "
   ]
  },
  {
   "cell_type": "code",
   "execution_count": 6,
   "id": "be6d6aeb",
   "metadata": {},
   "outputs": [],
   "source": [
    "second_array = np.array([(2,3,4,5),(6,7,8,9)])"
   ]
  },
  {
   "cell_type": "code",
   "execution_count": 7,
   "id": "b1f60533",
   "metadata": {},
   "outputs": [
    {
     "name": "stdout",
     "output_type": "stream",
     "text": [
      "[[2 3 4 5]\n",
      " [6 7 8 9]]\n"
     ]
    }
   ],
   "source": [
    "print(second_array)"
   ]
  },
  {
   "cell_type": "markdown",
   "id": "6af6f826",
   "metadata": {},
   "source": [
    "# THREE DIMENSIONAL ARRAY"
   ]
  },
  {
   "cell_type": "code",
   "execution_count": 8,
   "id": "85709856",
   "metadata": {},
   "outputs": [],
   "source": [
    "third_array  = np.array([[(17,18,19),(20,21,22),(23,24,25)]])"
   ]
  },
  {
   "cell_type": "code",
   "execution_count": 9,
   "id": "13d40b0b",
   "metadata": {},
   "outputs": [
    {
     "name": "stdout",
     "output_type": "stream",
     "text": [
      "[[[17 18 19]\n",
      "  [20 21 22]\n",
      "  [23 24 25]]]\n"
     ]
    }
   ],
   "source": [
    "print(third_array)"
   ]
  },
  {
   "cell_type": "markdown",
   "id": "09bdd6ec",
   "metadata": {},
   "source": [
    "# CREATING ARRAY WITH ZEROS"
   ]
  },
  {
   "cell_type": "code",
   "execution_count": 20,
   "id": "7f93320d",
   "metadata": {},
   "outputs": [],
   "source": [
    "zero_array = np.zeros((100,100))"
   ]
  },
  {
   "cell_type": "code",
   "execution_count": 21,
   "id": "881da3fd",
   "metadata": {},
   "outputs": [
    {
     "name": "stdout",
     "output_type": "stream",
     "text": [
      "[[0. 0. 0. ... 0. 0. 0.]\n",
      " [0. 0. 0. ... 0. 0. 0.]\n",
      " [0. 0. 0. ... 0. 0. 0.]\n",
      " ...\n",
      " [0. 0. 0. ... 0. 0. 0.]\n",
      " [0. 0. 0. ... 0. 0. 0.]\n",
      " [0. 0. 0. ... 0. 0. 0.]]\n"
     ]
    }
   ],
   "source": [
    "print(zero_array)"
   ]
  },
  {
   "cell_type": "code",
   "execution_count": 22,
   "id": "847f9eec",
   "metadata": {},
   "outputs": [],
   "source": [
    "one_array = np.ones((50,50))"
   ]
  },
  {
   "cell_type": "code",
   "execution_count": 24,
   "id": "2fb208b4",
   "metadata": {},
   "outputs": [
    {
     "name": "stdout",
     "output_type": "stream",
     "text": [
      "[[1. 1. 1. ... 1. 1. 1.]\n",
      " [1. 1. 1. ... 1. 1. 1.]\n",
      " [1. 1. 1. ... 1. 1. 1.]\n",
      " ...\n",
      " [1. 1. 1. ... 1. 1. 1.]\n",
      " [1. 1. 1. ... 1. 1. 1.]\n",
      " [1. 1. 1. ... 1. 1. 1.]]\n"
     ]
    }
   ],
   "source": [
    "print(one_array)"
   ]
  },
  {
   "cell_type": "markdown",
   "id": "b817e7f8",
   "metadata": {},
   "source": [
    "# Linspace"
   ]
  },
  {
   "cell_type": "code",
   "execution_count": 25,
   "id": "39c5142f",
   "metadata": {},
   "outputs": [],
   "source": [
    "spaced_num = np.linspace(0,20,50)"
   ]
  },
  {
   "cell_type": "code",
   "execution_count": 26,
   "id": "3d503be4",
   "metadata": {},
   "outputs": [
    {
     "name": "stdout",
     "output_type": "stream",
     "text": [
      "[ 0.          0.40816327  0.81632653  1.2244898   1.63265306  2.04081633\n",
      "  2.44897959  2.85714286  3.26530612  3.67346939  4.08163265  4.48979592\n",
      "  4.89795918  5.30612245  5.71428571  6.12244898  6.53061224  6.93877551\n",
      "  7.34693878  7.75510204  8.16326531  8.57142857  8.97959184  9.3877551\n",
      "  9.79591837 10.20408163 10.6122449  11.02040816 11.42857143 11.83673469\n",
      " 12.24489796 12.65306122 13.06122449 13.46938776 13.87755102 14.28571429\n",
      " 14.69387755 15.10204082 15.51020408 15.91836735 16.32653061 16.73469388\n",
      " 17.14285714 17.55102041 17.95918367 18.36734694 18.7755102  19.18367347\n",
      " 19.59183673 20.        ]\n"
     ]
    }
   ],
   "source": [
    "print(spaced_num)"
   ]
  },
  {
   "cell_type": "code",
   "execution_count": 28,
   "id": "623d9f6d",
   "metadata": {},
   "outputs": [],
   "source": [
    "my_arry = np.array([1,2,3])"
   ]
  },
  {
   "cell_type": "code",
   "execution_count": 31,
   "id": "c3907283",
   "metadata": {
    "scrolled": true
   },
   "outputs": [
    {
     "name": "stdout",
     "output_type": "stream",
     "text": [
      "[1 2 3]\n"
     ]
    }
   ],
   "source": [
    "print(my_arry)"
   ]
  },
  {
   "cell_type": "code",
   "execution_count": 33,
   "id": "a8b6c5cf",
   "metadata": {},
   "outputs": [
    {
     "name": "stdout",
     "output_type": "stream",
     "text": [
      "[[1. 1.]\n",
      " [1. 1.]]\n"
     ]
    }
   ],
   "source": [
    "arr_ones = np.ones((2,2))\n",
    "print(arr_ones)"
   ]
  },
  {
   "cell_type": "code",
   "execution_count": 34,
   "id": "5a330375",
   "metadata": {},
   "outputs": [],
   "source": [
    "my_matrix = np.array([(11,17,19),(23,25,27)])"
   ]
  },
  {
   "cell_type": "code",
   "execution_count": 35,
   "id": "998be0c4",
   "metadata": {},
   "outputs": [
    {
     "name": "stdout",
     "output_type": "stream",
     "text": [
      "[[11 17 19]\n",
      " [23 25 27]]\n"
     ]
    }
   ],
   "source": [
    "print(my_matrix)"
   ]
  },
  {
   "cell_type": "markdown",
   "id": "9fd693ca",
   "metadata": {},
   "source": [
    "# TRANSPOSE"
   ]
  },
  {
   "cell_type": "code",
   "execution_count": 36,
   "id": "f88f534e",
   "metadata": {},
   "outputs": [],
   "source": [
    "matrix_transpose = np.transpose(my_matrix)"
   ]
  },
  {
   "cell_type": "code",
   "execution_count": 38,
   "id": "97ea1b3c",
   "metadata": {},
   "outputs": [
    {
     "name": "stdout",
     "output_type": "stream",
     "text": [
      "[[11 23]\n",
      " [17 25]\n",
      " [19 27]]\n"
     ]
    }
   ],
   "source": [
    "print(matrix_transpose)"
   ]
  },
  {
   "cell_type": "code",
   "execution_count": 39,
   "id": "55997cdb",
   "metadata": {},
   "outputs": [
    {
     "data": {
      "text/plain": [
       "array([11, 23, 17, 25, 19, 27])"
      ]
     },
     "execution_count": 39,
     "metadata": {},
     "output_type": "execute_result"
    }
   ],
   "source": [
    "matrix_transpose.ravel()"
   ]
  },
  {
   "cell_type": "markdown",
   "id": "f2ea4052",
   "metadata": {},
   "source": [
    "# shapes"
   ]
  },
  {
   "cell_type": "code",
   "execution_count": 46,
   "id": "00fe03af",
   "metadata": {},
   "outputs": [
    {
     "data": {
      "text/plain": [
       "array([[1],\n",
       "       [2],\n",
       "       [3]])"
      ]
     },
     "execution_count": 46,
     "metadata": {},
     "output_type": "execute_result"
    }
   ],
   "source": [
    "my_arry.reshape(3,1)"
   ]
  },
  {
   "cell_type": "code",
   "execution_count": 52,
   "id": "08e7ec8c",
   "metadata": {},
   "outputs": [
    {
     "data": {
      "text/plain": [
       "array([[1.],\n",
       "       [1.],\n",
       "       [1.],\n",
       "       [1.]])"
      ]
     },
     "execution_count": 52,
     "metadata": {},
     "output_type": "execute_result"
    }
   ],
   "source": [
    "arr_ones.reshape(4,1)"
   ]
  },
  {
   "cell_type": "code",
   "execution_count": 55,
   "id": "2389d2d1",
   "metadata": {},
   "outputs": [
    {
     "data": {
      "text/plain": [
       "array([[11],\n",
       "       [23],\n",
       "       [17],\n",
       "       [25],\n",
       "       [19],\n",
       "       [27]])"
      ]
     },
     "execution_count": 55,
     "metadata": {},
     "output_type": "execute_result"
    }
   ],
   "source": [
    "matrix_transpose.reshape(6,1)"
   ]
  },
  {
   "cell_type": "markdown",
   "id": "ef43f013",
   "metadata": {},
   "source": [
    "# resize"
   ]
  },
  {
   "cell_type": "code",
   "execution_count": 59,
   "id": "92f87cff",
   "metadata": {},
   "outputs": [],
   "source": [
    "arr_ones.resize((4,1))"
   ]
  },
  {
   "cell_type": "code",
   "execution_count": 60,
   "id": "27c7aac7",
   "metadata": {},
   "outputs": [
    {
     "name": "stdout",
     "output_type": "stream",
     "text": [
      "[[1.]\n",
      " [1.]\n",
      " [1.]\n",
      " [1.]]\n"
     ]
    }
   ],
   "source": [
    "print(arr_ones)"
   ]
  },
  {
   "cell_type": "code",
   "execution_count": 61,
   "id": "2519598d",
   "metadata": {},
   "outputs": [
    {
     "data": {
      "text/plain": [
       "array([[0.04784419, 0.98725456, 0.8658796 ],\n",
       "       [0.50192385, 0.97238752, 0.48619124],\n",
       "       [0.24856123, 0.39590855, 0.88161863]])"
      ]
     },
     "execution_count": 61,
     "metadata": {},
     "output_type": "execute_result"
    }
   ],
   "source": [
    "np.random.random((3,3))"
   ]
  },
  {
   "cell_type": "code",
   "execution_count": null,
   "id": "bf3d7637",
   "metadata": {},
   "outputs": [],
   "source": []
  }
 ],
 "metadata": {
  "kernelspec": {
   "display_name": "Python 3 (ipykernel)",
   "language": "python",
   "name": "python3"
  },
  "language_info": {
   "codemirror_mode": {
    "name": "ipython",
    "version": 3
   },
   "file_extension": ".py",
   "mimetype": "text/x-python",
   "name": "python",
   "nbconvert_exporter": "python",
   "pygments_lexer": "ipython3",
   "version": "3.9.13"
  }
 },
 "nbformat": 4,
 "nbformat_minor": 5
}
