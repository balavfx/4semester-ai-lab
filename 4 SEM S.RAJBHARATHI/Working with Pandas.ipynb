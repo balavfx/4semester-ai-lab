{
 "cells": [
  {
   "cell_type": "code",
   "execution_count": 1,
   "id": "0525ec6d",
   "metadata": {},
   "outputs": [],
   "source": [
    "import pandas as pd"
   ]
  },
  {
   "cell_type": "code",
   "execution_count": 2,
   "id": "9ffe2990",
   "metadata": {},
   "outputs": [
    {
     "data": {
      "text/plain": [
       "'1.5.3'"
      ]
     },
     "execution_count": 2,
     "metadata": {},
     "output_type": "execute_result"
    }
   ],
   "source": [
    "pd.__version__"
   ]
  },
  {
   "cell_type": "code",
   "execution_count": 3,
   "id": "8241c8d5",
   "metadata": {},
   "outputs": [],
   "source": [
    "ai=pd.Series(['one',2.5,3.5,4.5,'5j'],index=[0,1,2,3,4])"
   ]
  },
  {
   "cell_type": "code",
   "execution_count": 4,
   "id": "61fb061d",
   "metadata": {},
   "outputs": [
    {
     "name": "stdout",
     "output_type": "stream",
     "text": [
      "0    one\n",
      "1    2.5\n",
      "2    3.5\n",
      "3    4.5\n",
      "4     5j\n",
      "dtype: object\n"
     ]
    }
   ],
   "source": [
    "print(ai)"
   ]
  },
  {
   "cell_type": "code",
   "execution_count": 12,
   "id": "da93ad6c",
   "metadata": {},
   "outputs": [],
   "source": [
    "season = {\"rainy\":{1:'sept',2:'oct',3:'nov',4:'dec'}, \"dry\":{1:'jan',2:'feb',3:'mar',4:'apr'},\"cold\":{1:'dec',2:'nov',3:'oct',4:'aug'}}"
   ]
  },
  {
   "cell_type": "code",
   "execution_count": 13,
   "id": "99fb5c70",
   "metadata": {},
   "outputs": [],
   "source": [
    "d=pd.DataFrame(season,columns =['rainy','dry','cold'])"
   ]
  },
  {
   "cell_type": "code",
   "execution_count": 14,
   "id": "d064fbcc",
   "metadata": {},
   "outputs": [
    {
     "name": "stdout",
     "output_type": "stream",
     "text": [
      "  rainy  dry cold\n",
      "1  sept  jan  dec\n",
      "2   oct  feb  nov\n",
      "3   nov  mar  oct\n",
      "4   dec  apr  aug\n"
     ]
    }
   ],
   "source": [
    "print(d)"
   ]
  },
  {
   "cell_type": "code",
   "execution_count": 15,
   "id": "be51d9ae",
   "metadata": {},
   "outputs": [],
   "source": [
    "import numpy as np"
   ]
  },
  {
   "cell_type": "code",
   "execution_count": 26,
   "id": "539dbfd5",
   "metadata": {},
   "outputs": [],
   "source": [
    "a=pd.DataFrame(np.random.randint(200,1000,size=(30,10)),columns=list(\"abcdefghij\"))"
   ]
  },
  {
   "cell_type": "code",
   "execution_count": 27,
   "id": "d168cdc6",
   "metadata": {},
   "outputs": [
    {
     "name": "stdout",
     "output_type": "stream",
     "text": [
      "      a    b    c    d    e    f    g    h    i    j\n",
      "0   593  430  708  541  344  278  990  955  611  690\n",
      "1   804  952  261  752  580  468  748  407  209  914\n",
      "2   286  614  360  924  831  598  775  615  344  378\n",
      "3   387  682  454  801  312  261  355  930  399  624\n",
      "4   689  261  495  844  273  800  272  481  590  254\n",
      "5   629  491  250  224  944  833  871  649  910  728\n",
      "6   572  662  603  825  505  811  800  615  222  785\n",
      "7   290  311  300  323  519  984  824  483  461  445\n",
      "8   923  309  357  249  582  979  952  726  360  966\n",
      "9   403  716  423  898  524  885  699  953  885  804\n",
      "10  592  423  255  440  801  613  300  657  389  322\n",
      "11  383  234  253  712  425  386  578  435  877  511\n",
      "12  266  901  939  678  637  807  251  626  502  523\n",
      "13  376  575  655  940  891  356  951  726  760  840\n",
      "14  535  338  749  472  583  388  550  936  686  212\n",
      "15  206  459  584  741  910  923  272  238  598  631\n",
      "16  344  355  728  758  473  904  518  627  606  300\n",
      "17  336  460  267  779  326  922  723  667  494  529\n",
      "18  845  243  892  341  269  221  537  366  529  380\n",
      "19  983  507  876  601  408  955  467  718  748  893\n",
      "20  680  610  294  557  814  368  257  833  922  600\n",
      "21  722  618  463  756  373  456  982  566  242  419\n",
      "22  333  411  335  493  201  576  376  564  744  249\n",
      "23  441  876  417  223  938  262  771  572  794  351\n",
      "24  556  394  802  710  315  445  881  528  572  399\n",
      "25  790  244  825  454  373  593  834  408  857  394\n",
      "26  262  987  462  995  259  753  587  579  666  473\n",
      "27  841  703  853  664  225  246  848  922  556  482\n",
      "28  211  966  310  601  443  848  334  662  275  210\n",
      "29  430  358  365  831  699  395  981  728  410  792\n"
     ]
    }
   ],
   "source": [
    "print(a)"
   ]
  },
  {
   "cell_type": "code",
   "execution_count": 38,
   "id": "eb332a96",
   "metadata": {},
   "outputs": [],
   "source": [
    "a.to_csv(\"C:/Users/Admin/pandas.csv\")"
   ]
  },
  {
   "cell_type": "code",
   "execution_count": 39,
   "id": "62dd6dca",
   "metadata": {},
   "outputs": [],
   "source": [
    "d=pd.read_csv(\"C:/Users/Admin/pandas.csv\")"
   ]
  },
  {
   "cell_type": "code",
   "execution_count": 40,
   "id": "6f43f47c",
   "metadata": {},
   "outputs": [
    {
     "name": "stdout",
     "output_type": "stream",
     "text": [
      "    Unnamed: 0    a    b    c    d    e    f    g    h    i    j\n",
      "0            0  593  430  708  541  344  278  990  955  611  690\n",
      "1            1  804  952  261  752  580  468  748  407  209  914\n",
      "2            2  286  614  360  924  831  598  775  615  344  378\n",
      "3            3  387  682  454  801  312  261  355  930  399  624\n",
      "4            4  689  261  495  844  273  800  272  481  590  254\n",
      "5            5  629  491  250  224  944  833  871  649  910  728\n",
      "6            6  572  662  603  825  505  811  800  615  222  785\n",
      "7            7  290  311  300  323  519  984  824  483  461  445\n",
      "8            8  923  309  357  249  582  979  952  726  360  966\n",
      "9            9  403  716  423  898  524  885  699  953  885  804\n",
      "10          10  592  423  255  440  801  613  300  657  389  322\n",
      "11          11  383  234  253  712  425  386  578  435  877  511\n",
      "12          12  266  901  939  678  637  807  251  626  502  523\n",
      "13          13  376  575  655  940  891  356  951  726  760  840\n",
      "14          14  535  338  749  472  583  388  550  936  686  212\n",
      "15          15  206  459  584  741  910  923  272  238  598  631\n",
      "16          16  344  355  728  758  473  904  518  627  606  300\n",
      "17          17  336  460  267  779  326  922  723  667  494  529\n",
      "18          18  845  243  892  341  269  221  537  366  529  380\n",
      "19          19  983  507  876  601  408  955  467  718  748  893\n",
      "20          20  680  610  294  557  814  368  257  833  922  600\n",
      "21          21  722  618  463  756  373  456  982  566  242  419\n",
      "22          22  333  411  335  493  201  576  376  564  744  249\n",
      "23          23  441  876  417  223  938  262  771  572  794  351\n",
      "24          24  556  394  802  710  315  445  881  528  572  399\n",
      "25          25  790  244  825  454  373  593  834  408  857  394\n",
      "26          26  262  987  462  995  259  753  587  579  666  473\n",
      "27          27  841  703  853  664  225  246  848  922  556  482\n",
      "28          28  211  966  310  601  443  848  334  662  275  210\n",
      "29          29  430  358  365  831  699  395  981  728  410  792\n"
     ]
    }
   ],
   "source": [
    "print(d)"
   ]
  },
  {
   "cell_type": "code",
   "execution_count": null,
   "id": "00ebb007",
   "metadata": {},
   "outputs": [],
   "source": []
  }
 ],
 "metadata": {
  "kernelspec": {
   "display_name": "Python 3 (ipykernel)",
   "language": "python",
   "name": "python3"
  },
  "language_info": {
   "codemirror_mode": {
    "name": "ipython",
    "version": 3
   },
   "file_extension": ".py",
   "mimetype": "text/x-python",
   "name": "python",
   "nbconvert_exporter": "python",
   "pygments_lexer": "ipython3",
   "version": "3.11.3"
  }
 },
 "nbformat": 4,
 "nbformat_minor": 5
}
